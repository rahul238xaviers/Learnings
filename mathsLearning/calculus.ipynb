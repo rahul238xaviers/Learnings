{
 "cells": [
  {
   "cell_type": "code",
   "execution_count": 1,
   "id": "98f88af8",
   "metadata": {},
   "outputs": [],
   "source": [
    "def diff_demo(my_f, my_x, my_delta):\n",
    "    return (my_f(my_x + my_delta) - my_f(my_x))/ my_delta"
   ]
  },
  {
   "cell_type": "code",
   "execution_count": null,
   "id": "229b7f31",
   "metadata": {},
   "outputs": [],
   "source": [
    "deltas = [1, 0.1, 0.01, 0.001, 0.0001, 0.00001, 0.000001]\n",
    "\n",
    "for delta in deltas:\n",
    "    print(diff_demo(f ,2, delta))"
   ]
  }
 ],
 "metadata": {
  "kernelspec": {
   "display_name": "dev",
   "language": "python",
   "name": "dev"
  },
  "language_info": {
   "codemirror_mode": {
    "name": "ipython",
    "version": 3
   },
   "file_extension": ".py",
   "mimetype": "text/x-python",
   "name": "python",
   "nbconvert_exporter": "python",
   "pygments_lexer": "ipython3",
   "version": "3.9.20"
  }
 },
 "nbformat": 4,
 "nbformat_minor": 5
}
